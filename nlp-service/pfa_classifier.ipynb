{
 "cells": [
  {
   "cell_type": "code",
   "execution_count": 103,
   "id": "0707f4a6",
   "metadata": {},
   "outputs": [],
   "source": [
    "import spacy\n",
    "from spacy.util import minibatch, compounding\n",
    "from spacy.training import Example\n",
    "import random\n",
    "import pandas as pd\n",
    "from sklearn.model_selection import train_test_split  \n",
    "from sklearn.metrics import classification_report  \n"
   ]
  },
  {
   "cell_type": "code",
   "execution_count": 104,
   "id": "52d81396",
   "metadata": {},
   "outputs": [],
   "source": [
    "df = pd.read_csv('plaintes_dataset.csv')"
   ]
  },
  {
   "cell_type": "code",
   "execution_count": 84,
   "id": "0815a0f8",
   "metadata": {},
   "outputs": [
    {
     "name": "stdout",
     "output_type": "stream",
     "text": [
      "<class 'pandas.core.frame.DataFrame'>\n",
      "RangeIndex: 246 entries, 0 to 245\n",
      "Data columns (total 2 columns):\n",
      " #   Column       Non-Null Count  Dtype \n",
      "---  ------       --------------  ----- \n",
      " 0   description  246 non-null    object\n",
      " 1   categorie    246 non-null    object\n",
      "dtypes: object(2)\n",
      "memory usage: 4.0+ KB\n"
     ]
    }
   ],
   "source": [
    "df.info()"
   ]
  },
  {
   "cell_type": "code",
   "execution_count": 85,
   "id": "fa68f992",
   "metadata": {},
   "outputs": [
    {
     "data": {
      "text/plain": [
       "description    0\n",
       "categorie      0\n",
       "dtype: int64"
      ]
     },
     "execution_count": 85,
     "metadata": {},
     "output_type": "execute_result"
    }
   ],
   "source": [
    "df.isnull().sum()"
   ]
  },
  {
   "cell_type": "code",
   "execution_count": 105,
   "id": "eff45aef",
   "metadata": {},
   "outputs": [
    {
     "data": {
      "text/plain": [
       "categorie\n",
       "DECHETS         50\n",
       "AUTRES          49\n",
       "AGRESSION       48\n",
       "VOIRIE          48\n",
       "CORRUPTION      47\n",
       "DECHETS          3\n",
       "CORRUPTION       3\n",
       "VOIRIE           1\n",
       "AGRESSION        1\n",
       "Name: count, dtype: int64"
      ]
     },
     "execution_count": 105,
     "metadata": {},
     "output_type": "execute_result"
    }
   ],
   "source": [
    "df[\"categorie\"].value_counts()"
   ]
  },
  {
   "cell_type": "code",
   "execution_count": 87,
   "id": "012a8f19",
   "metadata": {},
   "outputs": [],
   "source": [
    "## data prep\n",
    "### SpaCy attend une liste de tuples tel que chaque élément contient le text brut et un dic \n",
    "## [\n",
    "## ( \"texte de la plainte\", {\"cats\": {\"AGRESSION\":1, \"DECHETS\":0, …}} ),\n",
    "##  …\n",
    "## ]\n",
    "### {\"cats\" : labels} ou labels est un dic binaire qui indique pour chaque label si c'est la bonne catégorie(1) ou pas(0)"
   ]
  },
  {
   "cell_type": "code",
   "execution_count": 106,
   "id": "6dc53137",
   "metadata": {},
   "outputs": [],
   "source": [
    "# 1) liste des labels possibles\n",
    "LABELS = [\"AGRESSION\",\"DECHETS\",\"CORRUPTION\",\"VOIRIE\",\"AUTRES\"]\n",
    "\n",
    "TRAIN_DATA= []\n",
    "\n",
    "for _,row in df.iterrows():  ## parcourir chaque ligne de dataframe\n",
    "    text = row[\"description\"]\n",
    "    true_cat = row[\"categorie\"]\n",
    "\n",
    "    # 2) on crée un dict de 0 pour tous les labels\n",
    "    cats = {label: 0 for label in LABELS}\n",
    "\n",
    "    # 3) on met à 1 la catégorie vrai\n",
    "    cats[true_cat] = 1\n",
    "\n",
    "    # 4) on ajoute la tuple à la liste de data\n",
    "    TRAIN_DATA.append((text,{\"cats\": cats}))\n",
    "\n"
   ]
  },
  {
   "cell_type": "code",
   "execution_count": 107,
   "id": "c5e109aa",
   "metadata": {},
   "outputs": [
    {
     "name": "stdout",
     "output_type": "stream",
     "text": [
      "Nombre d'exemples : 250\n"
     ]
    },
    {
     "data": {
      "text/plain": [
       "[(\"Un homme m'a volé mon téléphone près du lycée.\",\n",
       "  {'cats': {'AGRESSION': 1,\n",
       "    'DECHETS': 0,\n",
       "    'CORRUPTION': 0,\n",
       "    'VOIRIE': 0,\n",
       "    'AUTRES': 0}}),\n",
       " (\"Les ordures s'accumulent dans la rue sans ramassage.\",\n",
       "  {'cats': {'AGRESSION': 0,\n",
       "    'DECHETS': 1,\n",
       "    'CORRUPTION': 0,\n",
       "    'VOIRIE': 0,\n",
       "    'AUTRES': 0}}),\n",
       " (\"Un policier m'a demandé un pot-de-vin.\",\n",
       "  {'cats': {'AGRESSION': 0,\n",
       "    'DECHETS': 0,\n",
       "    'CORRUPTION': 1,\n",
       "    'VOIRIE': 0,\n",
       "    'AUTRES': 0}})]"
      ]
     },
     "execution_count": 107,
     "metadata": {},
     "output_type": "execute_result"
    }
   ],
   "source": [
    "print(\"Nombre d'exemples :\", len(TRAIN_DATA))\n",
    "TRAIN_DATA[:3]\n"
   ]
  },
  {
   "cell_type": "markdown",
   "id": "88dca513",
   "metadata": {},
   "source": [
    "# Entrainement du modèle spaCy"
   ]
  },
  {
   "cell_type": "code",
   "execution_count": 108,
   "id": "4da94884",
   "metadata": {},
   "outputs": [],
   "source": [
    "nlp = spacy.load(\"fr_core_news_lg\", exclude=[\"lemmatizer\"])"
   ]
  },
  {
   "cell_type": "code",
   "execution_count": 109,
   "id": "09adfbd3",
   "metadata": {},
   "outputs": [],
   "source": [
    "textcat = nlp.add_pipe(\"textcat\", last=True)  "
   ]
  },
  {
   "cell_type": "code",
   "execution_count": 110,
   "id": "307a3ee5",
   "metadata": {},
   "outputs": [],
   "source": [
    "for label in LABELS:\n",
    "    textcat.add_label(label)"
   ]
  },
  {
   "cell_type": "code",
   "execution_count": 111,
   "id": "0eef71ea",
   "metadata": {},
   "outputs": [
    {
     "name": "stdout",
     "output_type": "stream",
     "text": [
      "Epoch 1 — loss=9.816\n",
      "Epoch 2 — loss=9.435\n",
      "Epoch 3 — loss=8.114\n",
      "Epoch 4 — loss=6.162\n",
      "Epoch 5 — loss=4.736\n",
      "Epoch 6 — loss=3.048\n",
      "Epoch 7 — loss=1.822\n",
      "Epoch 8 — loss=1.489\n",
      "Epoch 9 — loss=1.085\n",
      "Epoch 10 — loss=0.798\n"
     ]
    }
   ],
   "source": [
    "optimizer = nlp.begin_training()  \n",
    "best_loss = float(\"inf\")  \n",
    "patience = 2  \n",
    "\n",
    "for epoch in range(10):  \n",
    "    random.shuffle(TRAIN_DATA)  \n",
    "    losses = {}  \n",
    "    batches = minibatch(TRAIN_DATA, size=compounding(4.0, 32.0, 1.001))  \n",
    "    for batch in batches:  \n",
    "        examples = [Example.from_dict(nlp.make_doc(text), annots) for text, annots in batch]  \n",
    "        nlp.update(examples, sgd=optimizer, drop=0.4, losses=losses)  \n",
    "    print(f\"Epoch {epoch+1} — loss={losses['textcat']:.3f}\")  \n",
    "\n",
    "    # Early stopping  \n",
    "    if losses[\"textcat\"] < best_loss:  \n",
    "        best_loss = losses[\"textcat\"]  \n",
    "        patience_counter = 0  \n",
    "    else:  \n",
    "        patience_counter +=1  \n",
    "        if patience_counter >= patience:  \n",
    "            print(\"Arrêt anticipé à l'epoch\", epoch)  \n",
    "            break  \n"
   ]
  },
  {
   "cell_type": "code",
   "execution_count": 112,
   "id": "d20a8fe9",
   "metadata": {},
   "outputs": [
    {
     "name": "stdout",
     "output_type": "stream",
     "text": [
      "Modèle enregistré dans ./ model_spacy_plaintes\n"
     ]
    }
   ],
   "source": [
    "nlp.to_disk(output_dir)\n",
    "print(f\"Modèle enregistré dans ./ {output_dir}\")"
   ]
  },
  {
   "cell_type": "code",
   "execution_count": 115,
   "id": "934953da",
   "metadata": {},
   "outputs": [
    {
     "name": "stdout",
     "output_type": "stream",
     "text": [
      " Tests des corrections et cas complexes :\n",
      "+-------------------------------------------------------+------------------+--------------+-------------+-----------+\n",
      "| Texte                                                 | Vrai Catégorie   | Prédiction   |   Confiance | Correct   |\n",
      "+=======================================================+==================+==============+=============+===========+\n",
      "| Des gravats de construction bloquent l'accès à l'h... | DECHETS          | DECHETS      |        0.61 | ✅        |\n",
      "+-------------------------------------------------------+------------------+--------------+-------------+-----------+\n",
      "| Un élu local demande des votes en échange de trava... | CORRUPTION       | CORRUPTION   |        0.99 | ✅        |\n",
      "+-------------------------------------------------------+------------------+--------------+-------------+-----------+\n",
      "| Un inspecteur scolaire réclame un paiement pour mo... | CORRUPTION       | CORRUPTION   |        1    | ✅        |\n",
      "+-------------------------------------------------------+------------------+--------------+-------------+-----------+\n",
      "| Des déchets de chantier mélangés à de la terre gên... | DECHETS          | DECHETS      |        1    | ✅        |\n",
      "+-------------------------------------------------------+------------------+--------------+-------------+-----------+\n",
      "| Le trottoir est recouvert de bouteilles en plastiq... | DECHETS          | VOIRIE       |        1    | ❌        |\n",
      "+-------------------------------------------------------+------------------+--------------+-------------+-----------+\n",
      "| Un gardien de prison exige de l'argent pour amélio... | CORRUPTION       | CORRUPTION   |        1    | ✅        |\n",
      "+-------------------------------------------------------+------------------+--------------+-------------+-----------+\n",
      "| Des branches d'arbre tombées gênent le passage des... | AUTRES           | AUTRES       |        1    | ✅        |\n",
      "+-------------------------------------------------------+------------------+--------------+-------------+-----------+\n",
      "| Un panneau 'Stop' a été volé au carrefour principa... | AUTRES           | CORRUPTION   |        1    | ❌        |\n",
      "+-------------------------------------------------------+------------------+--------------+-------------+-----------+\n",
      "| La lune est pleine ce soir....                        | AUTRES           | VOIRIE       |        1    | ❌        |\n",
      "+-------------------------------------------------------+------------------+--------------+-------------+-----------+\n",
      "\n",
      "Accuracy: 66.67%\n",
      "\n",
      " Détail d'un cas DECHETS/VOIRIE :\n",
      "\n",
      "Texte: Des débris de brique et de ciment encombrent la chaussée.\n",
      "- VOIRIE: 0.9360\n",
      "- AUTRES: 0.0428\n",
      "- AGRESSION: 0.0211\n",
      "- DECHETS: 0.0001\n",
      "- CORRUPTION: 0.0000\n"
     ]
    }
   ],
   "source": [
    "#%% Nouveaux tests - Version 2\n",
    "new_test_cases = [\n",
    "    # Cas clairs corrigés\n",
    "    (\"Des gravats de construction bloquent l'accès à l'hôpital Ibn Rochd.\", \"DECHETS\"),\n",
    "    (\"Un élu local demande des votes en échange de travaux publics.\", \"CORRUPTION\"),\n",
    "    \n",
    "    # Nouveaux cas complexes\n",
    "    (\"Un inspecteur scolaire réclame un paiement pour modifier des notes.\", \"CORRUPTION\"),  # Corruption éducative\n",
    "    (\"Des déchets de chantier mélangés à de la terre gênent la circulation.\", \"DECHETS\"),    # DECHETS vs VOIRIE\n",
    "    (\"Le trottoir est recouvert de bouteilles en plastique écrasées.\", \"DECHETS\"),           # DECHETS vs VOIRIE\n",
    "    \n",
    "    # Cas d'abus d'autorité\n",
    "    (\"Un gardien de prison exige de l'argent pour améliorer les conditions de détention.\", \"CORRUPTION\"),\n",
    "    \n",
    "    # Cas limites AUTRES\n",
    "    (\"Des branches d'arbre tombées gênent le passage des piétons.\", \"AUTRES\"),              # Ni DECHETS ni VOIRIE\n",
    "    (\"Un panneau 'Stop' a été volé au carrefour principal.\", \"AUTRES\"),                     # Vandalisme non catégorisé\n",
    "    \n",
    "    # Test de confiance\n",
    "    (\"La lune est pleine ce soir.\", \"AUTRES\")  # Phrase hors contexte\n",
    "]\n",
    "\n",
    "print(\" Tests des corrections et cas complexes :\")\n",
    "evaluate_manual(nlp_eval, new_test_cases)\n",
    "\n",
    "# Affichage détaillé pour un cas critique\n",
    "print(\"\\n Détail d'un cas DECHETS/VOIRIE :\")\n",
    "ambiguous_text = \"Des débris de brique et de ciment encombrent la chaussée.\"\n",
    "doc = nlp_eval(ambiguous_text)\n",
    "print(f\"\\nTexte: {ambiguous_text}\")\n",
    "for cat, score in sorted(doc.cats.items(), key=lambda x: x[1], reverse=True):\n",
    "    print(f\"- {cat}: {score:.4f}\")"
   ]
  }
 ],
 "metadata": {
  "kernelspec": {
   "display_name": ".venv",
   "language": "python",
   "name": "python3"
  },
  "language_info": {
   "codemirror_mode": {
    "name": "ipython",
    "version": 3
   },
   "file_extension": ".py",
   "mimetype": "text/x-python",
   "name": "python",
   "nbconvert_exporter": "python",
   "pygments_lexer": "ipython3",
   "version": "3.10.0"
  }
 },
 "nbformat": 4,
 "nbformat_minor": 5
}
